{
 "cells": [
  {
   "cell_type": "markdown",
   "metadata": {},
   "source": [
    "# <center>Network Science</center>"
   ]
  },
  {
   "cell_type": "markdown",
   "metadata": {},
   "source": [
    "## <center/>Project #2"
   ]
  },
  {
   "cell_type": "markdown",
   "metadata": {},
   "source": [
    "# Description"
   ]
  },
  {
   "cell_type": "markdown",
   "metadata": {},
   "source": [
    "Consider the [flickr dataset](https://www.hse.ru/data/2016/05/17/1128901463/flickr_data.tar.gz) (warning, raw data!). <br/>\n",
    "File ''*users.txt*'' provides a table of form *userID*, *enterTimeStamp*, *additionalInfo*... <br/>\n",
    "File \"*contacts.txt*\" consists of pairs of *userID*'s and link establishment timestamp <br/>\n",
    "\n",
    "Recall *scoring functions* and graph embeddings for link prediction. Your task is to compare the performance of each scoring function as follows:\n",
    "1. TOP-$n$ accuracy\n",
    "    * Denote the number of links $E_\\text{new}$ appeared during testing period as $n$\n",
    "    * Denote the ranked list of node pairs provided by score $s$ as $\\hat{E}_s$\n",
    "    * Take top-$n$ pairs from $\\hat{E}_s$ and intersect it with $E_\\text{new}$. Performance is measured as the size of resulted set\n",
    "2. ROC and AUC ('star' subtask)\n",
    "\n",
    "Essentially, for this task you also have to follow the guideline points $1$ and $2$ above. The only thing you have to keep in mind is that flickr dataset is growing dataset. Since then, consider nodes that are significantly represented both in training and testing intervals (have at least $5$ adjacent edges in training and testing intervals)"
   ]
  },
  {
   "cell_type": "markdown",
   "metadata": {},
   "source": [
    "## Solution"
   ]
  },
  {
   "cell_type": "markdown",
   "metadata": {},
   "source": [
    "Import some useful libraries:"
   ]
  },
  {
   "cell_type": "code",
   "execution_count": 3,
   "metadata": {},
   "outputs": [],
   "source": [
    "import numpy as np\n",
    "import matplotlib.pyplot as plt\n",
    "plt.xkcd()\n",
    "import networkx as nx\n",
    "%matplotlib inline\n",
    "import pandas as pd\n",
    "\n",
    "import random\n",
    "from tqdm.notebook import tqdm "
   ]
  },
  {
   "cell_type": "markdown",
   "metadata": {},
   "source": [
    "### Prepare for binary classification problem"
   ]
  },
  {
   "cell_type": "code",
   "execution_count": 4,
   "metadata": {},
   "outputs": [
    {
     "data": {
      "text/html": [
       "<div>\n",
       "<style scoped>\n",
       "    .dataframe tbody tr th:only-of-type {\n",
       "        vertical-align: middle;\n",
       "    }\n",
       "\n",
       "    .dataframe tbody tr th {\n",
       "        vertical-align: top;\n",
       "    }\n",
       "\n",
       "    .dataframe thead th {\n",
       "        text-align: right;\n",
       "    }\n",
       "</style>\n",
       "<table border=\"1\" class=\"dataframe\">\n",
       "  <thead>\n",
       "    <tr style=\"text-align: right;\">\n",
       "      <th></th>\n",
       "      <th>u1</th>\n",
       "      <th>u2</th>\n",
       "      <th>time</th>\n",
       "    </tr>\n",
       "  </thead>\n",
       "  <tbody>\n",
       "    <tr>\n",
       "      <th>0</th>\n",
       "      <td>41</td>\n",
       "      <td>42</td>\n",
       "      <td>29252304</td>\n",
       "    </tr>\n",
       "    <tr>\n",
       "      <th>1</th>\n",
       "      <td>41</td>\n",
       "      <td>44</td>\n",
       "      <td>24407893</td>\n",
       "    </tr>\n",
       "    <tr>\n",
       "      <th>2</th>\n",
       "      <td>41</td>\n",
       "      <td>46</td>\n",
       "      <td>28952340</td>\n",
       "    </tr>\n",
       "  </tbody>\n",
       "</table>\n",
       "</div>"
      ],
      "text/plain": [
       "   u1  u2      time\n",
       "0  41  42  29252304\n",
       "1  41  44  24407893\n",
       "2  41  46  28952340"
      ]
     },
     "execution_count": 4,
     "metadata": {},
     "output_type": "execute_result"
    }
   ],
   "source": [
    "## download dataset\n",
    "flickr = pd.read_csv('contacts.txt', header=None, sep=' ')\n",
    "flickr.columns = ['u1', 'u2', 'time']\n",
    "## delete negative time data\n",
    "flickr = flickr[~ (flickr['time'] < 0) ]\n",
    "## leave nodes with degree >= 5\n",
    "hist = flickr.stack().value_counts()\n",
    "sign_nodes = hist[ hist > 4 ].keys()\n",
    "flickr = flickr[ (flickr['u1'].isin(sign_nodes) & flickr['u2'].isin(sign_nodes)) ]\n",
    "\n",
    "flickr.head(3)"
   ]
  },
  {
   "cell_type": "markdown",
   "metadata": {},
   "source": [
    "Determine datasets with training and testing (gap in the center of time interval) intervals:"
   ]
  },
  {
   "cell_type": "code",
   "execution_count": 5,
   "metadata": {},
   "outputs": [],
   "source": [
    "train_int = flickr[ (flickr['time'] <= np.median(flickr['time'])) ].drop_duplicates()\n",
    "test_int = flickr[ (flickr['time'] > np.median(flickr['time'])) ].drop_duplicates()\n",
    "\n",
    "del train_int['time']\n",
    "del test_int['time']"
   ]
  },
  {
   "cell_type": "markdown",
   "metadata": {},
   "source": [
    "#### Make the graph of training interval"
   ]
  },
  {
   "cell_type": "code",
   "execution_count": 6,
   "metadata": {},
   "outputs": [],
   "source": [
    "## make graph of training interval\n",
    "G_train = nx.from_pandas_edgelist(train_int, 'u1', 'u2', \n",
    "                                  create_using = nx.Graph())"
   ]
  },
  {
   "cell_type": "markdown",
   "metadata": {},
   "source": [
    "Testing interval should include only authors that have appeared during training interval. Let's find positive examples - we need to find author pairs that haven't been formed during training interval but have been formed by testing interval:"
   ]
  },
  {
   "cell_type": "code",
   "execution_count": 7,
   "metadata": {},
   "outputs": [],
   "source": [
    "## unique users in training and testing intervals and their intersection\n",
    "unique_train = pd.concat([train_int['u1'], train_int['u2']]).unique()\n",
    "unique_test = pd.concat([test_int['u1'], test_int['u2']]).unique()\n",
    "inter = np.intersect1d(unique_test, unique_train)"
   ]
  },
  {
   "cell_type": "code",
   "execution_count": 8,
   "metadata": {},
   "outputs": [],
   "source": [
    "## find positive examples\n",
    "pos = test_int[ (test_int['u1'].isin(inter) & test_int['u2'].isin(inter)) ]"
   ]
  },
  {
   "cell_type": "markdown",
   "metadata": {},
   "source": [
    "Now we should find negative examples such as pairs of users that have not occured together during training and testing intervals. Since it is time-consuming process, we can restrict ourselves with 100,000 of negative examples:"
   ]
  },
  {
   "cell_type": "code",
   "execution_count": 9,
   "metadata": {},
   "outputs": [
    {
     "data": {
      "application/vnd.jupyter.widget-view+json": {
       "model_id": "db73751f28fb45baa45f2a7010aa2638",
       "version_major": 2,
       "version_minor": 0
      },
      "text/plain": [
       "HBox(children=(FloatProgress(value=0.0, max=3691084.0), HTML(value='')))"
      ]
     },
     "metadata": {},
     "output_type": "display_data"
    },
    {
     "name": "stdout",
     "output_type": "stream",
     "text": [
      "\n"
     ]
    }
   ],
   "source": [
    "# Create a lookup to speedup the search for negative examples\n",
    "# Combine train and test interval\n",
    "lookup = dict()\n",
    "train_test = train_int.append(test_int)\n",
    "for index, user in tqdm(train_test.iterrows(), total= train_test.shape[0]):\n",
    "    lookup[(user[0], user[1])] = 1\n",
    "    lookup[(user[1], user[1])] = 1"
   ]
  },
  {
   "cell_type": "code",
   "execution_count": 10,
   "metadata": {},
   "outputs": [
    {
     "data": {
      "application/vnd.jupyter.widget-view+json": {
       "model_id": "a115875739314f5aac7aa7a86b346037",
       "version_major": 2,
       "version_minor": 0
      },
      "text/plain": [
       "HBox(children=(FloatProgress(value=0.0, description='Finding Negative Examples', max=100000.0, style=ProgressS…"
      ]
     },
     "metadata": {},
     "output_type": "display_data"
    }
   ],
   "source": [
    "\"\"\"\n",
    "## Find negative examples\n",
    "We are randomly selecting two users from the train network and then\n",
    "creating connection/pair to check whether that pair exists in the \n",
    "lookup(i.e. train and test interval) or not and also shortest distance\n",
    "between two users is greater than 3. \n",
    "Note:\n",
    "Two users are less likely to connect if shorest distance is higher \n",
    "between them\n",
    "\"\"\"\n",
    "\n",
    "random.seed(0)\n",
    "neg_example = set([])\n",
    "nodes = list(G_train.nodes)\n",
    "pbar = tqdm(total = 100000, desc='Finding Negative Examples')\n",
    "count = 0\n",
    "while count < 100000:\n",
    "    user_1 = random.choice(nodes)\n",
    "    user_2 = random.choice(nodes)\n",
    "    pair = (user_1, user_2)\n",
    "    try:\n",
    "        sp = nx.shortest_path_length(G_train,source=user_1,target=user_2)\n",
    "    except:\n",
    "        sp = 100000\n",
    "    if user_1!=user_2 and sp>3:\n",
    "        if pair not in neg_example and pair[::-1] not in neg_example:\n",
    "            neg_example.add((user_1,user_2))\n",
    "            count += 1\n",
    "            pbar.update(1)"
   ]
  },
  {
   "cell_type": "code",
   "execution_count": 11,
   "metadata": {},
   "outputs": [],
   "source": [
    "#Convert the set of negative examples into dataframe\n",
    "neg = pd.DataFrame(neg_example, columns=['u1', 'u2'])"
   ]
  },
  {
   "cell_type": "code",
   "execution_count": 12,
   "metadata": {},
   "outputs": [],
   "source": [
    "neg.to_csv('neg_example_random_state_0', index=False)"
   ]
  },
  {
   "cell_type": "markdown",
   "metadata": {},
   "source": [
    "So let's make dataset with 100,000 positive and 100,000 negative examples:"
   ]
  },
  {
   "cell_type": "code",
   "execution_count": 13,
   "metadata": {},
   "outputs": [],
   "source": [
    "## put your code here\n",
    "\n",
    "pos_100000 = pos[:100000]\n",
    "neg_100000 = neg[:100000]\n",
    "\n",
    "posneg = pos_100000.append(neg_100000).reset_index(drop=True)"
   ]
  },
  {
   "cell_type": "code",
   "execution_count": 14,
   "metadata": {},
   "outputs": [
    {
     "data": {
      "text/plain": [
       "(200000, 2)"
      ]
     },
     "execution_count": 14,
     "metadata": {},
     "output_type": "execute_result"
    }
   ],
   "source": [
    "posneg.shape"
   ]
  },
  {
   "cell_type": "markdown",
   "metadata": {},
   "source": [
    "### Construct feature space"
   ]
  },
  {
   "cell_type": "markdown",
   "metadata": {},
   "source": [
    "So now we got labels for our dataset from training interval. We should build graph of training interval to score some features for pairs of nodes from our labeled dataset. To construct feature space we can take some scoring functions from the lecture (all formulas are provided on slides). This functions reflect relations between each pair of nodes in our dataset and form **baselines**:\n",
    "\n",
    "- Number of common neighbors\n",
    "\n",
    "- Preferential attachment\n",
    "\n",
    "- Jaccard’s coefficient\n",
    "\n",
    "- Adamic/Adar\n",
    "\n",
    "- Shortest path"
   ]
  },
  {
   "cell_type": "code",
   "execution_count": 15,
   "metadata": {},
   "outputs": [],
   "source": [
    "def scoring(df, G):\n",
    "    common_neighbors = []\n",
    "    preferential_att = []\n",
    "    jaccard = []\n",
    "    adar = []\n",
    "    shortest_path = []\n",
    "    for r in df.iterrows():\n",
    "        nb_v = set(G.neighbors(r[1][0]))\n",
    "        nb_w = set(G.neighbors(r[1][1]))\n",
    "        union = nb_v | nb_w\n",
    "        inter = nb_v & nb_w\n",
    "        ## Number of common neighbors\n",
    "        common_neighbors.append(len(inter))\n",
    "        ## Preferential attachment\n",
    "        preferential_att.append(len(nb_v) * len(nb_w))\n",
    "        ## Jaccard’s coefficient\n",
    "        jaccard.append(len(inter) / len(union))\n",
    "        ## Adamic/Adar\n",
    "        a = 0\n",
    "        for node in inter:\n",
    "            a += 1.0 / np.log(G.degree(node))\n",
    "        adar.append(a)\n",
    "        ## Shortest path\n",
    "        try:\n",
    "            shortest_path.append(- nx.shortest_path_length(G, source = r[1][0], target = r[1][1]))\n",
    "        except:\n",
    "            shortest_path.append(- 10000)\n",
    " \n",
    "    df['common_neighbors'] = pd.Series(common_neighbors, index = df.index)\n",
    "    df['preferential_att'] = pd.Series(preferential_att, index = df.index)\n",
    "    df['jaccard'] = pd.Series(jaccard, index = df.index)\n",
    "    df['adar'] = pd.Series(adar, index = df.index)\n",
    "    df['shortest_path'] = pd.Series(shortest_path, index = df.index)"
   ]
  },
  {
   "cell_type": "code",
   "execution_count": 16,
   "metadata": {},
   "outputs": [],
   "source": [
    "scoring(posneg, G_train)"
   ]
  },
  {
   "cell_type": "markdown",
   "metadata": {},
   "source": [
    "### TOP-n accuracy"
   ]
  },
  {
   "cell_type": "markdown",
   "metadata": {},
   "source": [
    "So now we should do the following: for each scoring function let's take top-100000 pairs and intersect it with positive examples:"
   ]
  },
  {
   "cell_type": "code",
   "execution_count": 17,
   "metadata": {},
   "outputs": [],
   "source": [
    "submission = pd.DataFrame(columns=['metric','Prediction'])"
   ]
  },
  {
   "cell_type": "code",
   "execution_count": 18,
   "metadata": {},
   "outputs": [
    {
     "name": "stdout",
     "output_type": "stream",
     "text": [
      "common_neighbors: 0.72649\n",
      "preferential_att: 0.83732\n",
      "jaccard: 0.72649\n",
      "adar: 0.72649\n",
      "shortest_path: 0.77138\n"
     ]
    }
   ],
   "source": [
    "for score in ['common_neighbors', \n",
    "                'preferential_att', \n",
    "                'jaccard', \n",
    "                'adar',\n",
    "                'shortest_path']:\n",
    "    top_n = posneg.sort_values(score, ascending = False)[:100000]\n",
    "    acc = len(pd.merge(pos_100000, top_n, how = 'inner', on = ['u1', 'u2'])) / 100000\n",
    "    print('{}: {}'.format(score, acc))\n",
    "    submission = submission.append({'metric':score + ' top-100000',\n",
    "                                    'Prediction':round(acc, 10)}, \n",
    "                                    ignore_index=True)"
   ]
  },
  {
   "cell_type": "markdown",
   "metadata": {},
   "source": [
    "This rate represents perfomance of scoring functions: we see that preferential attachment gave us best prediction result, bur in general all scoring functions give quite high and similar result - about 70-80%."
   ]
  },
  {
   "cell_type": "markdown",
   "metadata": {},
   "source": [
    "### ROC and AUC"
   ]
  },
  {
   "cell_type": "markdown",
   "metadata": {},
   "source": [
    "Let's also compute ROC and AUC:"
   ]
  },
  {
   "cell_type": "code",
   "execution_count": 19,
   "metadata": {},
   "outputs": [
    {
     "name": "stdout",
     "output_type": "stream",
     "text": [
      "For common_neighbors AUC = 0.19041176495000017\n",
      "For preferential_att AUC = 0.11242066655000002\n",
      "For jaccard AUC = 0.18800546495000017\n",
      "For adar AUC = 0.19225451495000018\n",
      "For shortest_path AUC = 0.1582429692\n"
     ]
    },
    {
     "data": {
      "text/plain": [
       "<matplotlib.legend.Legend at 0x7f2956acbe50>"
      ]
     },
     "execution_count": 19,
     "metadata": {},
     "output_type": "execute_result"
    },
    {
     "data": {
      "image/png": "[encoded data removed]",
      "text/plain": [
       "<Figure size 1440x504 with 1 Axes>"
      ]
     },
     "metadata": {
      "needs_background": "light"
     },
     "output_type": "display_data"
    }
   ],
   "source": [
    "scores = [ 'common_neighbors', \n",
    "                'preferential_att', \n",
    "               'jaccard', \n",
    "                'adar',\n",
    "                'shortest_path']\n",
    "\n",
    "plt.figure(figsize=(20,7))\n",
    "\n",
    "for score in scores:\n",
    "    true_pos_rate = []\n",
    "    false_pos_rate = []\n",
    "    auc = 0\n",
    "    sort_posneg = posneg.sort_values(score, ascending = False)\n",
    "    for n in range(0, 100000, 500):\n",
    "        top_n = sort_posneg[:n]\n",
    "        \n",
    "        tpr = len(pd.merge(pos_100000, top_n, how = 'inner', on = ['u1', 'u2'])) / 100000\n",
    "        true_pos_rate.append(tpr)\n",
    "        fpr = len(pd.merge(neg_100000, top_n, how = 'inner', on = ['u1', 'u2'])) / 100000\n",
    "        false_pos_rate.append(fpr)\n",
    "    for i in range(1, len(false_pos_rate)):\n",
    "        auc += (false_pos_rate[i] - false_pos_rate[i-1]) * (true_pos_rate[i-1] +\n",
    "                                                            true_pos_rate[i]) / 2\n",
    "    plt.plot(false_pos_rate, true_pos_rate)\n",
    "    print('For {} AUC = {}'.format(score, auc))\n",
    "    submission = submission.append({'metric':score + ' AUC',\n",
    "                                    'Prediction':round(auc, 10)}, \n",
    "                                    ignore_index=True)\n",
    "    \n",
    "plt.xlabel('false_pos_rate')\n",
    "plt.ylabel('true_pos_rate')\n",
    "plt.legend(scores, loc = 'best')"
   ]
  },
  {
   "cell_type": "markdown",
   "metadata": {},
   "source": [
    "ROC illustrates the performance of a binary classifier system as its discrimination threshold is varied. The curve is created by plotting the true positive rate (TPR) against the false positive rate (FPR) at various threshold settings. The ROC curve is the sensitivity as a function of fall-out. AUC is computed as an area under the curve and is equal to the probability that a classifier will rank a randomly chosen positive instance higher than a randomly chosen negative one. As we see AUC i rather small for all scoring function (fit our top_n results)."
   ]
  },
  {
   "cell_type": "code",
   "execution_count": 20,
   "metadata": {},
   "outputs": [],
   "source": [
    "submission.to_csv('submission.csv', index=False)"
   ]
  },
  {
   "cell_type": "code",
   "execution_count": 21,
   "metadata": {},
   "outputs": [
    {
     "data": {
      "text/html": [
       "<div>\n",
       "<style scoped>\n",
       "    .dataframe tbody tr th:only-of-type {\n",
       "        vertical-align: middle;\n",
       "    }\n",
       "\n",
       "    .dataframe tbody tr th {\n",
       "        vertical-align: top;\n",
       "    }\n",
       "\n",
       "    .dataframe thead th {\n",
       "        text-align: right;\n",
       "    }\n",
       "</style>\n",
       "<table border=\"1\" class=\"dataframe\">\n",
       "  <thead>\n",
       "    <tr style=\"text-align: right;\">\n",
       "      <th></th>\n",
       "      <th>metric</th>\n",
       "      <th>Prediction</th>\n",
       "    </tr>\n",
       "  </thead>\n",
       "  <tbody>\n",
       "    <tr>\n",
       "      <th>0</th>\n",
       "      <td>common_neighbors top-100000</td>\n",
       "      <td>0.726490</td>\n",
       "    </tr>\n",
       "    <tr>\n",
       "      <th>1</th>\n",
       "      <td>preferential_att top-100000</td>\n",
       "      <td>0.837320</td>\n",
       "    </tr>\n",
       "    <tr>\n",
       "      <th>2</th>\n",
       "      <td>jaccard top-100000</td>\n",
       "      <td>0.726490</td>\n",
       "    </tr>\n",
       "    <tr>\n",
       "      <th>3</th>\n",
       "      <td>adar top-100000</td>\n",
       "      <td>0.726490</td>\n",
       "    </tr>\n",
       "    <tr>\n",
       "      <th>4</th>\n",
       "      <td>shortest_path top-100000</td>\n",
       "      <td>0.771380</td>\n",
       "    </tr>\n",
       "    <tr>\n",
       "      <th>5</th>\n",
       "      <td>common_neighbors AUC</td>\n",
       "      <td>0.190412</td>\n",
       "    </tr>\n",
       "    <tr>\n",
       "      <th>6</th>\n",
       "      <td>preferential_att AUC</td>\n",
       "      <td>0.112421</td>\n",
       "    </tr>\n",
       "    <tr>\n",
       "      <th>7</th>\n",
       "      <td>jaccard AUC</td>\n",
       "      <td>0.188005</td>\n",
       "    </tr>\n",
       "    <tr>\n",
       "      <th>8</th>\n",
       "      <td>adar AUC</td>\n",
       "      <td>0.192255</td>\n",
       "    </tr>\n",
       "    <tr>\n",
       "      <th>9</th>\n",
       "      <td>shortest_path AUC</td>\n",
       "      <td>0.158243</td>\n",
       "    </tr>\n",
       "  </tbody>\n",
       "</table>\n",
       "</div>"
      ],
      "text/plain": [
       "                        metric  Prediction\n",
       "0  common_neighbors top-100000    0.726490\n",
       "1  preferential_att top-100000    0.837320\n",
       "2           jaccard top-100000    0.726490\n",
       "3              adar top-100000    0.726490\n",
       "4     shortest_path top-100000    0.771380\n",
       "5         common_neighbors AUC    0.190412\n",
       "6         preferential_att AUC    0.112421\n",
       "7                  jaccard AUC    0.188005\n",
       "8                     adar AUC    0.192255\n",
       "9            shortest_path AUC    0.158243"
      ]
     },
     "execution_count": 21,
     "metadata": {},
     "output_type": "execute_result"
    }
   ],
   "source": [
    "submission"
   ]
  },
  {
   "cell_type": "code",
   "execution_count": null,
   "metadata": {},
   "outputs": [],
   "source": []
  }
 ],
 "metadata": {
  "kernelspec": {
   "display_name": "Python 3",
   "language": "python",
   "name": "python3"
  },
  "language_info": {
   "codemirror_mode": {
    "name": "ipython",
    "version": 3
   },
   "file_extension": ".py",
   "mimetype": "text/x-python",
   "name": "python",
   "nbconvert_exporter": "python",
   "pygments_lexer": "ipython3",
   "version": "3.7.6"
  }
 },
 "nbformat": 4,
 "nbformat_minor": 4
}
