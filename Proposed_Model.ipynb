{
 "cells": [
  {
   "cell_type": "markdown",
   "metadata": {},
   "source": [
    "# <center>Network Science</center>"
   ]
  },
  {
   "cell_type": "markdown",
   "metadata": {},
   "source": [
    "## <center/>Project #2\n",
    "    Submitted By: Mohammed Bilal Ansari"
   ]
  },
  {
   "cell_type": "markdown",
   "metadata": {},
   "source": [
    "#### Proposed Approach:\n",
    "\n",
    "    Following steps has been used to implement the proposed model.\n",
    "\n",
    "    Steps:\n",
    "    1) Data Preparation \n",
    "       In this step, we first split the data into train and test interval. Futher, we compute negative examples using the train interval graph. 80/10 ratio has been considered for train_set and test_set with equal number of positive and negative examples.\n",
    "    \n",
    "    2) Feature Engineering\n",
    "       We computer the features like jaccard, cosine, common_neighbors, resource_allocation etc. for each examples in train set and test set\n",
    "    \n",
    "    3) Model Training\n",
    "       We considered the CatBoost algorithm to perform this task(i.e. link/contacts prediction) as binary classification problem.\n",
    "       \n",
    "    4) Model Performance\n",
    "       Model has been evaluated using ROC_AUC score. "
   ]
  },
  {
   "cell_type": "markdown",
   "metadata": {},
   "source": [
    "#### Import required packages"
   ]
  },
  {
   "cell_type": "code",
   "execution_count": 3,
   "metadata": {},
   "outputs": [
    {
     "data": {
      "text/plain": [
       "<matplotlib.rc_context at 0x7f46b06e1850>"
      ]
     },
     "execution_count": 3,
     "metadata": {},
     "output_type": "execute_result"
    }
   ],
   "source": [
    "import numpy as np\n",
    "import pandas as pd\n",
    "import networkx as nx\n",
    "from tqdm.notebook import tqdm\n",
    "import random\n",
    "from sklearn.model_selection import train_test_split\n",
    "import math\n",
    "from catboost import CatBoostClassifier\n",
    "from sklearn.metrics import roc_curve, auc\n",
    "import matplotlib.pyplot as plt\n",
    "import seaborn as sns\n",
    "import community\n",
    "plt.xkcd()"
   ]
  },
  {
   "cell_type": "markdown",
   "metadata": {},
   "source": [
    "## 1. Data Preparation"
   ]
  },
  {
   "cell_type": "markdown",
   "metadata": {},
   "source": [
    "> #### Split the data into train and test interval"
   ]
  },
  {
   "cell_type": "code",
   "execution_count": 4,
   "metadata": {},
   "outputs": [],
   "source": [
    "def split(data):\n",
    "    \"\"\"split the data into train and test interval\"\"\"\n",
    "    # delete negative time data\n",
    "    data = data[~(data['time'] < 0)]\n",
    "    # consider the nodes with degree >= 5\n",
    "    hist = pd.concat([data.userID_1, data.userID_2]).value_counts()\n",
    "    sign_nodes = hist[ hist > 4 ].keys()\n",
    "    data = data[(data['userID_1'].isin(sign_nodes) & data['userID_2'].isin(sign_nodes))]\n",
    "    # \n",
    "    train_int = data[(data['time'] <= np.median(data['time'])) ].drop_duplicates()\n",
    "    test_int = data[(data['time'] > np.median(data['time'])) ].drop_duplicates()\n",
    "    # Drop time attribute\n",
    "    train_int = train_int.drop(['time'], axis=1).reset_index(drop=True)\n",
    "    test_int = test_int.drop(['time'], axis=1).reset_index(drop=True)\n",
    "    return train_int, test_int "
   ]
  },
  {
   "cell_type": "code",
   "execution_count": 5,
   "metadata": {},
   "outputs": [],
   "source": [
    "flickr = pd.read_csv('contacts.txt', \n",
    "                     header=None, \n",
    "                     sep=' ', \n",
    "                     names = ['userID_1', 'userID_2', 'time'])"
   ]
  },
  {
   "cell_type": "code",
   "execution_count": 6,
   "metadata": {},
   "outputs": [],
   "source": [
    "train_int, test_int = split(flickr)"
   ]
  },
  {
   "cell_type": "markdown",
   "metadata": {},
   "source": [
    "> #### Create a graph of training interval"
   ]
  },
  {
   "cell_type": "code",
   "execution_count": 7,
   "metadata": {},
   "outputs": [],
   "source": [
    "G_train = nx.from_pandas_edgelist(train_int, \n",
    "                                  'userID_1', 'userID_2',\n",
    "                                  create_using = nx.Graph())"
   ]
  },
  {
   "cell_type": "code",
   "execution_count": 8,
   "metadata": {},
   "outputs": [
    {
     "name": "stdout",
     "output_type": "stream",
     "text": [
      "Name: \n",
      "Type: Graph\n",
      "Number of nodes: 106664\n",
      "Number of edges: 1198072\n",
      "Average degree:  22.4644\n",
      "Number of Connected Componets: 2466\n"
     ]
    }
   ],
   "source": [
    "cc = nx.number_connected_components(G_train)\n",
    "print(nx.info(G_train),'\\n', \n",
    "      'Number of Connected Componets: ', cc, sep='')"
   ]
  },
  {
   "cell_type": "markdown",
   "metadata": {},
   "source": [
    "> #### Generate Negative Examples\n",
    "    Negative examples are such pairs of users that have not occured    together during training and testing intervals"
   ]
  },
  {
   "cell_type": "code",
   "execution_count": 9,
   "metadata": {},
   "outputs": [],
   "source": [
    "lookup = dict()\n",
    "for index, user in train_int.append(test_int).iterrows():\n",
    "    lookup[(user[0], user[1])] = 1\n",
    "    lookup[(user[1], user[1])] = 1"
   ]
  },
  {
   "cell_type": "code",
   "execution_count": 10,
   "metadata": {},
   "outputs": [],
   "source": [
    "neg_example = set([])\n",
    "nodes = list(G_train.nodes)\n",
    "pbar = tqdm(total = 1198072, desc='Finding Negative Examples')\n",
    "\n",
    "while (len(neg_example)<1198072):\n",
    "    user_1 = random.choice(nodes)\n",
    "    user_2 = random.choice(nodes) \n",
    "    found = lookup.get((user_1,user_2),0) \n",
    "    try:\n",
    "        sp = nx.shortest_path_length(G_train,source=user_1,target=user_2)\n",
    "    except:\n",
    "        sp = 1198072\n",
    "    if found == 0 and user_1!=user_2 and sp>2:\n",
    "        if (user_1,user_2) not in neg_example and (user_2,user_1) not in neg_example:\n",
    "            neg_example.add((user_1,user_2))\n",
    "    pbar.update(1)"
   ]
  },
  {
   "cell_type": "code",
   "execution_count": 11,
   "metadata": {},
   "outputs": [],
   "source": [
    "df_neg = pd.DataFrame(list(neg_example), \n",
    "                      columns=['userID_1', 'userID_2'])"
   ]
  },
  {
   "cell_type": "code",
   "execution_count": 12,
   "metadata": {},
   "outputs": [],
   "source": [
    "df_neg['is_Connected'] = 0"
   ]
  },
  {
   "cell_type": "code",
   "execution_count": 13,
   "metadata": {},
   "outputs": [],
   "source": [
    "train_neg, test_neg  = train_test_split(df_neg, test_size=0.2)"
   ]
  },
  {
   "cell_type": "markdown",
   "metadata": {},
   "source": [
    "> #### Positive Examples\n",
    "    Positive examples are such pairs of users that haven't been formed during training interval but have been formed by testing interval."
   ]
  },
  {
   "cell_type": "code",
   "execution_count": 14,
   "metadata": {},
   "outputs": [],
   "source": [
    "# Authors in train_set and test set \n",
    "unique_train = pd.concat([train_int['userID_1'], train_int['userID_2']]).unique()\n",
    "unique_test = pd.concat([test_int['userID_1'], test_int['userID_2']]).unique()\n",
    "# Common authors in train_set and test_set\n",
    "inter = np.intersect1d(unique_train, unique_test)\n",
    "#\n",
    "test_int = test_int[(test_int['userID_1'].isin(inter) & test_int['userID_2'].isin(inter))]"
   ]
  },
  {
   "cell_type": "code",
   "execution_count": 15,
   "metadata": {},
   "outputs": [],
   "source": [
    "train_int['is_Connected'] = 1\n",
    "test_int['is_Connected'] = 1"
   ]
  },
  {
   "cell_type": "markdown",
   "metadata": {},
   "source": [
    "> #### Split the data into Train and Test set "
   ]
  },
  {
   "cell_type": "code",
   "execution_count": 16,
   "metadata": {},
   "outputs": [],
   "source": [
    "train_set = train_int.sample(n=train_neg.shape[0]).append(\n",
    "    train_neg,ignore_index=True)"
   ]
  },
  {
   "cell_type": "code",
   "execution_count": 17,
   "metadata": {},
   "outputs": [],
   "source": [
    "test_set = test_int.sample(n=test_neg.shape[0]).append(\n",
    "    test_neg,ignore_index=True)"
   ]
  },
  {
   "cell_type": "code",
   "execution_count": 24,
   "metadata": {},
   "outputs": [
    {
     "name": "stdout",
     "output_type": "stream",
     "text": [
      "==================== TRAIN_SET ====================\n",
      "Number of positive examples 958457\n",
      "Number of negative examples 958457\n",
      "==================== TEST_SET =====================\n",
      "Number of positive examples 239615\n",
      "Number of negative examples 239615\n"
     ]
    }
   ],
   "source": [
    "print('='*20,'TRAIN_SET','='*20)\n",
    "print(\"Number of positive examples\", \n",
    "      train_set[train_set.is_Connected==1].shape[0])\n",
    "print(\"Number of negative examples\", \n",
    "      train_set[train_set.is_Connected==0].shape[0])\n",
    "print('='*20,'TEST_SET','='*21)\n",
    "print(\"Number of positive examples\", \n",
    "      test_set[test_set.is_Connected==1].shape[0])\n",
    "print(\"Number of negative examples\", \n",
    "      test_set[test_set.is_Connected==0].shape[0])"
   ]
  },
  {
   "cell_type": "markdown",
   "metadata": {},
   "source": [
    "## 2. Feature Engineering\n",
    "\n",
    ">    We will follow the below references to generate the new features\n",
    ">    for our link prediction model.\n",
    ">\n",
    ">    References:\n",
    ">\n",
    ">    [Paper on Project recommendation system](https://arxiv.org/pdf/1602.02594.pdf)\n",
    ">    \n",
    ">    [Networkx Documentation](https://networkx.github.io/documentation/networkx-1.10/reference/algorithms.link_prediction.html)\n",
    "   \n",
    "   "
   ]
  },
  {
   "cell_type": "code",
   "execution_count": 25,
   "metadata": {},
   "outputs": [],
   "source": [
    "def generate_features(G, df):\n",
    "    jaccard = []\n",
    "    cosine_dst = []\n",
    "    num_con_s = []\n",
    "    num_con_d = []\n",
    "    common_neighbors = []\n",
    "    adar = []\n",
    "    page_rank_s = []\n",
    "    page_rank_d = []\n",
    "    hub_score_s = []\n",
    "    hub_score_d = []\n",
    "    auth_score_s = []\n",
    "    auth_score_d = []\n",
    "    preferential_att = []\n",
    "    resource_alloc = []\n",
    "    within_inter_c = []\n",
    "    resource_alloc_c = []\n",
    "    common_neighbors_c = []\n",
    "    \n",
    "    for r in tqdm(df.iterrows(), total=df.shape[0]):\n",
    "        nb_v = set(G.neighbors(r[1]['userID_1']))\n",
    "        nb_w = set(G.neighbors(r[1]['userID_2']))\n",
    "        union = nb_v | nb_w\n",
    "        inter = nb_v & nb_w\n",
    "        ## Jaccard’s coefficient\n",
    "        jaccard.append(len(inter) / len(union))\n",
    "        ## Cosine Distance\n",
    "        cosine_dst.append(len(inter)/ math.sqrt(len(union)))\n",
    "        ## Number of connection user_1 has\n",
    "        num_con_s.append(len(nb_v))\n",
    "        ## Number of connection user_2 has\n",
    "        num_con_d.append(len(nb_w))\n",
    "        ## Number of common neighbors\n",
    "        common_neighbors.append(len(inter))\n",
    "        ## Adamic/Adar\n",
    "        a = 0\n",
    "        for node in inter:\n",
    "            a += 1.0 / np.log(G.degree(node))\n",
    "        adar.append(a)\n",
    "        ## Page Rank for user_1\n",
    "        page_rank_s.append(pr.get(r[1]['userID_1'], mean_pr))\n",
    "        ## Page Rank for user_2\n",
    "        page_rank_d.append(pr.get(r[1]['userID_2'], mean_pr))\n",
    "        ## Hub score for user_1\n",
    "        hub_score_s.append(hits[0].get(r[1]['userID_1'],0))\n",
    "        ## Hub score for user_2\n",
    "        hub_score_d.append(hits[0].get(r[1]['userID_2'],0))\n",
    "        ## Authorities score for user_1\n",
    "        auth_score_s.append(hits[1].get(r[1]['userID_1'],0))\n",
    "        ## Authorities score for user_2\n",
    "        auth_score_d.append(hits[1].get(r[1]['userID_2'],0))\n",
    "        ## Preferential attachment\n",
    "        preferential_att.append(len(nb_v) * len(nb_w))\n",
    "        ## Resource allocation\n",
    "        ra = 0\n",
    "        for node in inter:\n",
    "            ra += 1.0 / G.degree(node)\n",
    "        resource_alloc.append(ra)\n",
    "        ## ratio of within- and inter-cluster common neighbors \n",
    "        try:\n",
    "            within_inter_c.append(\n",
    "                list(nx.within_inter_cluster(G, \n",
    "                    [(r[1]['userID_1'], r[1]['userID_2'])]))[0][-1])\n",
    "        except:\n",
    "            within_inter_c.append(0)\n",
    "        ## Resource allocation using community information\n",
    "        resource_alloc_c.append(\n",
    "            list(nx.ra_index_soundarajan_hopcroft(G,\n",
    "                [(r[1]['userID_1'], r[1]['userID_2'])]))[0][-1])\n",
    "        ## number of common neighbors using community information\n",
    "        common_neighbors_c.append(\n",
    "            list(nx.cn_soundarajan_hopcroft(G,\n",
    "                [(r[1]['userID_1'], r[1]['userID_2'])]))[0][-1])\n",
    "     \n",
    "    df['jaccard'] = pd.Series(jaccard, index = df.index)\n",
    "    df['cosine'] = pd.Series(cosine_dst, index = df.index)\n",
    "    df['num_con_s'] =  pd.Series(num_con_s, index = df.index)\n",
    "    df['num_con_d'] =  pd.Series(num_con_d, index = df.index)\n",
    "    df['common_neighbors'] = pd.Series(common_neighbors, index = df.index)\n",
    "    df['adar'] = pd.Series(adar, index = df.index)\n",
    "    df['page_rank_s'] = pd.Series(page_rank_s, index = df.index)\n",
    "    df['page_rank_d'] = pd.Series(page_rank_d, index = df.index)\n",
    "    df['hub_score_s'] = pd.Series(hub_score_s, index = df.index)\n",
    "    df['hub_score_d'] = pd.Series(hub_score_d, index = df.index)\n",
    "    df['auth_score_s'] = pd.Series(auth_score_s, index = df.index)\n",
    "    df['auth_score_d'] = pd.Series(auth_score_d, index = df.index)\n",
    "    df['preferential_att'] = pd.Series(preferential_att, index = df.index)\n",
    "    df['resource_alloc'] = pd.Series(resource_alloc, index = df.index)\n",
    "    df['within_inter_c'] = pd.Series(within_inter_c, index = df.index)\n",
    "    df['resource_alloc_c'] = pd.Series(resource_alloc_c, index = df.index)\n",
    "    df['common_neighbors_c'] = pd.Series(common_neighbors_c, index = df.index)\n",
    "    df['Combined_measure'] = 0.7*df['preferential_att'] + 0.3*df['adar']\n",
    "    df['Combined_measure'] = 0.7*df['preferential_att'] + 0.3*df['adar']"
   ]
  },
  {
   "cell_type": "markdown",
   "metadata": {},
   "source": [
    "> Compute the pagerank, hub score and authority score for each node in train interval graph. These algorithms are based on directed graph but networkx implementation auto convert the undirected to directed graph by converting each edge into two directed edges."
   ]
  },
  {
   "cell_type": "code",
   "execution_count": 26,
   "metadata": {},
   "outputs": [],
   "source": [
    "pr = nx.pagerank(G_train, alpha=0.85)\n",
    "mean_pr=float(sum(pr.values())) / len(pr)\n",
    "hits = nx.hits(G_train, max_iter=100, \n",
    "               tol=1e-08, nstart=None, normalized=True)"
   ]
  },
  {
   "cell_type": "markdown",
   "metadata": {},
   "source": [
    "> Networkx link prediction algorithms like cn_soundarajan_hopcroft, within_inter_cluster are based on community information. That's why, we added 'community' attribute in the train interval graph. "
   ]
  },
  {
   "cell_type": "code",
   "execution_count": 27,
   "metadata": {},
   "outputs": [],
   "source": [
    "part = community.best_partition(G_train)\n",
    "for node in G_train.nodes:\n",
    "    G_train.nodes[node]['community'] = int(part.get(node))"
   ]
  },
  {
   "cell_type": "markdown",
   "metadata": {},
   "source": [
    "> Generate new features"
   ]
  },
  {
   "cell_type": "code",
   "execution_count": 28,
   "metadata": {},
   "outputs": [],
   "source": [
    "generate_features(G_train, train_set)\n",
    "generate_features(G_train, test_set)"
   ]
  },
  {
   "cell_type": "code",
   "execution_count": 29,
   "metadata": {},
   "outputs": [],
   "source": [
    "test_set.to_csv('test_set.csv', index=False)\n",
    "train_set.to_csv('train_set.csv', index=False)"
   ]
  },
  {
   "cell_type": "code",
   "execution_count": 30,
   "metadata": {},
   "outputs": [],
   "source": [
    "test_set = pd.read_csv('test_set.csv')\n",
    "train_set = pd.read_csv('train_set.csv')"
   ]
  },
  {
   "cell_type": "code",
   "execution_count": 31,
   "metadata": {},
   "outputs": [],
   "source": [
    "# Train Examples\n",
    "X_train = train_set.drop(['userID_1','userID_2','is_Connected'], axis=1)\n",
    "y_train = train_set['is_Connected']\n",
    "# Test Examples\n",
    "X_test = test_set.drop(['userID_1','userID_2','is_Connected'], axis=1)\n",
    "y_test = test_set['is_Connected']"
   ]
  },
  {
   "cell_type": "markdown",
   "metadata": {},
   "source": [
    "## 3. Train the Model"
   ]
  },
  {
   "cell_type": "markdown",
   "metadata": {},
   "source": [
    "> Link Prediction Model (CatBoost Classifier)"
   ]
  },
  {
   "cell_type": "code",
   "execution_count": 32,
   "metadata": {},
   "outputs": [],
   "source": [
    "model = CatBoostClassifier(iterations=1000,\n",
    "                           loss_function='Logloss',\n",
    "                           eval_metric='Logloss',\n",
    "                           random_state=2020,\n",
    "                           verbose=100,\n",
    "                           task_type=\"GPU\",\n",
    "                           od_type = \"Iter\", \n",
    "                           od_wait = 100,\n",
    "                           learning_rate=0.04,\n",
    "                           depth=4,\n",
    "                           l2_leaf_reg=5)"
   ]
  },
  {
   "cell_type": "markdown",
   "metadata": {},
   "source": [
    "> Train the CatBoost model "
   ]
  },
  {
   "cell_type": "code",
   "execution_count": 33,
   "metadata": {},
   "outputs": [
    {
     "name": "stdout",
     "output_type": "stream",
     "text": [
      "0:\tlearn: 0.5769440\ttotal: 24.1ms\tremaining: 24.1s\n",
      "100:\tlearn: 0.0981076\ttotal: 1.37s\tremaining: 12.2s\n",
      "200:\tlearn: 0.0903381\ttotal: 2.7s\tremaining: 10.7s\n",
      "300:\tlearn: 0.0868843\ttotal: 4.06s\tremaining: 9.42s\n",
      "400:\tlearn: 0.0849717\ttotal: 5.54s\tremaining: 8.27s\n",
      "500:\tlearn: 0.0832927\ttotal: 6.85s\tremaining: 6.82s\n",
      "600:\tlearn: 0.0819528\ttotal: 8.18s\tremaining: 5.43s\n",
      "700:\tlearn: 0.0810649\ttotal: 9.54s\tremaining: 4.07s\n",
      "800:\tlearn: 0.0803361\ttotal: 10.9s\tremaining: 2.7s\n",
      "900:\tlearn: 0.0794480\ttotal: 12.2s\tremaining: 1.34s\n",
      "999:\tlearn: 0.0788062\ttotal: 13.6s\tremaining: 0us\n"
     ]
    },
    {
     "data": {
      "text/plain": [
       "<catboost.core.CatBoostClassifier at 0x7f4682963e90>"
      ]
     },
     "execution_count": 33,
     "metadata": {},
     "output_type": "execute_result"
    }
   ],
   "source": [
    "model.fit(X_train, y_train)"
   ]
  },
  {
   "cell_type": "markdown",
   "metadata": {},
   "source": [
    "> Features Importance in the model"
   ]
  },
  {
   "cell_type": "code",
   "execution_count": 34,
   "metadata": {},
   "outputs": [],
   "source": [
    "features_imp = sorted(list(zip(model.feature_names_,model.feature_importances_)),\n",
    "       key=lambda x: x[1])"
   ]
  },
  {
   "cell_type": "code",
   "execution_count": 35,
   "metadata": {},
   "outputs": [
    {
     "data": {
      "image/png": "[encoded data removed]",
      "text/plain": [
       "<Figure size 720x360 with 1 Axes>"
      ]
     },
     "metadata": {},
     "output_type": "display_data"
    }
   ],
   "source": [
    "fig = plt.figure(figsize=(10,5))\n",
    "ax = sns.barplot(x='features', y='Importance', \n",
    "                 data=pd.DataFrame(features_imp, columns=['features','Importance']), \n",
    "                 linewidth=2.5, errcolor=\".2\", edgecolor=\".2\")\n",
    "plt.xticks(rotation=-50)\n",
    "plt.show()"
   ]
  },
  {
   "cell_type": "markdown",
   "metadata": {},
   "source": [
    "> Drop the features which have less importance"
   ]
  },
  {
   "cell_type": "code",
   "execution_count": 37,
   "metadata": {},
   "outputs": [],
   "source": [
    "#drop irrelevant features based on features importance\n",
    "drop_features =['within_inter_c',\n",
    "                'resource_alloc_c', \n",
    "                'preferential_att']\n",
    "\n",
    "X_train_new = X_train.drop(drop_features, axis=1)\n",
    "X_test_new = X_test.drop(drop_features, axis=1)"
   ]
  },
  {
   "cell_type": "code",
   "execution_count": 38,
   "metadata": {},
   "outputs": [
    {
     "name": "stdout",
     "output_type": "stream",
     "text": [
      "Number of Features:  15\n"
     ]
    }
   ],
   "source": [
    "print('Number of Features: ', X_train_new.shape[1])"
   ]
  },
  {
   "cell_type": "markdown",
   "metadata": {},
   "source": [
    "> Golden Features:\n",
    "Golden Features for the CatBoost Classifier which highly contribute to predict the target variable or those variables which have high importance."
   ]
  },
  {
   "cell_type": "code",
   "execution_count": 39,
   "metadata": {},
   "outputs": [
    {
     "data": {
      "text/plain": [
       "(4, 0)"
      ]
     },
     "execution_count": 39,
     "metadata": {},
     "output_type": "execute_result"
    }
   ],
   "source": [
    "# index of golden_features for CatBoost Classifier\n",
    "(list(X_train_new.columns).index('common_neighbors'),\n",
    "list(X_train_new.columns).index('jaccard'))"
   ]
  },
  {
   "cell_type": "code",
   "execution_count": 40,
   "metadata": {},
   "outputs": [],
   "source": [
    "# golden_features for catboost classifier\n",
    "golden_features = ['4:border_count=1024', '0:border_count=1024']"
   ]
  },
  {
   "cell_type": "markdown",
   "metadata": {},
   "source": [
    "> Pass the golden features into the CatBoostClassifier"
   ]
  },
  {
   "cell_type": "code",
   "execution_count": 41,
   "metadata": {},
   "outputs": [],
   "source": [
    "model = CatBoostClassifier(iterations=1000,\n",
    "                           loss_function='Logloss',\n",
    "                           eval_metric='Logloss',\n",
    "                           random_state=2020,\n",
    "                           verbose=100,\n",
    "                           task_type=\"GPU\",\n",
    "                           od_type = \"Iter\", \n",
    "                           od_wait = 100,\n",
    "                           learning_rate=0.01,\n",
    "                           depth=5,\n",
    "                           l2_leaf_reg=10,\n",
    "                           per_float_feature_quantization=golden_features)"
   ]
  },
  {
   "cell_type": "markdown",
   "metadata": {},
   "source": [
    "> Train the model after dropping the irrelevent features"
   ]
  },
  {
   "cell_type": "code",
   "execution_count": 42,
   "metadata": {},
   "outputs": [
    {
     "name": "stdout",
     "output_type": "stream",
     "text": [
      "0:\tlearn: 0.6627448\ttotal: 17.7ms\tremaining: 17.6s\n",
      "100:\tlearn: 0.1278826\ttotal: 1.7s\tremaining: 15.1s\n",
      "200:\tlearn: 0.1040905\ttotal: 3.34s\tremaining: 13.3s\n",
      "300:\tlearn: 0.0967587\ttotal: 5.5s\tremaining: 12.8s\n",
      "400:\tlearn: 0.0935196\ttotal: 7.17s\tremaining: 10.7s\n",
      "500:\tlearn: 0.0907617\ttotal: 9.07s\tremaining: 9.04s\n",
      "600:\tlearn: 0.0888684\ttotal: 10.8s\tremaining: 7.14s\n",
      "700:\tlearn: 0.0872832\ttotal: 12.4s\tremaining: 5.3s\n",
      "800:\tlearn: 0.0862552\ttotal: 14.1s\tremaining: 3.49s\n",
      "900:\tlearn: 0.0854277\ttotal: 16s\tremaining: 1.76s\n",
      "999:\tlearn: 0.0846805\ttotal: 17.6s\tremaining: 0us\n"
     ]
    },
    {
     "data": {
      "text/plain": [
       "<catboost.core.CatBoostClassifier at 0x7f467c107450>"
      ]
     },
     "execution_count": 42,
     "metadata": {},
     "output_type": "execute_result"
    }
   ],
   "source": [
    "model.fit(X_train_new, y_train)"
   ]
  },
  {
   "cell_type": "markdown",
   "metadata": {},
   "source": [
    "## 4. Evaluate the Model\n",
    "    Compute the performance of the link prediction model i.e CatBoost Classifier."
   ]
  },
  {
   "cell_type": "markdown",
   "metadata": {},
   "source": [
    "> Accuracy of Link Prediction model"
   ]
  },
  {
   "cell_type": "code",
   "execution_count": 43,
   "metadata": {},
   "outputs": [
    {
     "data": {
      "text/plain": [
       "0.89"
      ]
     },
     "execution_count": 43,
     "metadata": {},
     "output_type": "execute_result"
    }
   ],
   "source": [
    "model.score(X_test_n, y_test).round(2)"
   ]
  },
  {
   "cell_type": "markdown",
   "metadata": {},
   "source": [
    "> ROC_AUC "
   ]
  },
  {
   "cell_type": "code",
   "execution_count": 44,
   "metadata": {},
   "outputs": [],
   "source": [
    "y_prob = model.predict_proba(X_test_n)\n",
    "fpr, tpr, _ = roc_curve(y_test, y_prob[:,1])\n",
    "roc_auc = auc(fpr, tpr)"
   ]
  },
  {
   "cell_type": "code",
   "execution_count": 45,
   "metadata": {},
   "outputs": [
    {
     "data": {
      "image/png": "[encoded data removed]",
      "text/plain": [
       "<Figure size 432x288 with 1 Axes>"
      ]
     },
     "metadata": {},
     "output_type": "display_data"
    }
   ],
   "source": [
    "plt.figure()\n",
    "lw = 2\n",
    "plt.plot(fpr, tpr, color='darkorange',\n",
    "         lw=lw, label='ROC curve (AUC = %0.2f)' % roc_auc)\n",
    "plt.plot([0, 1], [0, 1], color='navy', lw=lw, linestyle='--')\n",
    "plt.xlim([0.0, 1.0])\n",
    "plt.ylim([0.0, 1.05])\n",
    "plt.xlabel('False Positive Rate')\n",
    "plt.ylabel('True Positive Rate')\n",
    "plt.title('ROC - Receiver operating characteristic')\n",
    "plt.legend(loc=\"lower right\")\n",
    "plt.show()"
   ]
  },
  {
   "cell_type": "markdown",
   "metadata": {},
   "source": [
    ">    #### Conclusion:- Performance of proposed model for link     prediction is quite high in comparison to the baseline model."
   ]
  },
  {
   "cell_type": "code",
   "execution_count": null,
   "metadata": {},
   "outputs": [],
   "source": []
  },
  {
   "cell_type": "code",
   "execution_count": null,
   "metadata": {},
   "outputs": [],
   "source": []
  }
 ],
 "metadata": {
  "kernelspec": {
   "display_name": "Python 3",
   "language": "python",
   "name": "python3"
  },
  "language_info": {
   "codemirror_mode": {
    "name": "ipython",
    "version": 3
   },
   "file_extension": ".py",
   "mimetype": "text/x-python",
   "name": "python",
   "nbconvert_exporter": "python",
   "pygments_lexer": "ipython3",
   "version": "3.7.6"
  }
 },
 "nbformat": 4,
 "nbformat_minor": 4
}
